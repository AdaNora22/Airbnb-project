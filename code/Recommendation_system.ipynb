{
 "cells": [
  {
   "cell_type": "markdown",
   "id": "4710cf3a-14b1-4937-b198-7f6fe1e7c95b",
   "metadata": {},
   "source": [
    "# Recommendation system"
   ]
  },
  {
   "cell_type": "markdown",
   "id": "7aab3bb5-807f-4c2a-9244-8284ba2aae9c",
   "metadata": {},
   "source": [
    "## Imports"
   ]
  },
  {
   "cell_type": "code",
   "execution_count": null,
   "id": "f94477cb-1327-456c-8b18-067b29207121",
   "metadata": {},
   "outputs": [],
   "source": []
  },
  {
   "cell_type": "markdown",
   "id": "5817376e-d281-4fa2-910f-2a2568c09c9a",
   "metadata": {},
   "source": [
    "## Import Data"
   ]
  },
  {
   "cell_type": "code",
   "execution_count": null,
   "id": "b8a6927c-fcfa-4228-b960-767d05db76e3",
   "metadata": {},
   "outputs": [],
   "source": []
  },
  {
   "cell_type": "markdown",
   "id": "ef7b5c82-54c3-424d-a6bf-213cba3b36be",
   "metadata": {},
   "source": [
    "## Linear Regression"
   ]
  },
  {
   "cell_type": "code",
   "execution_count": null,
   "id": "bc2f4368-88b6-4003-bed2-9c5e98404ad2",
   "metadata": {},
   "outputs": [],
   "source": []
  },
  {
   "cell_type": "code",
   "execution_count": null,
   "id": "f05eb7b5-1629-405e-ad5f-8b15f8c162c3",
   "metadata": {},
   "outputs": [],
   "source": []
  },
  {
   "cell_type": "markdown",
   "id": "a26fdd47-d536-4da9-bf21-4bf03450dcb3",
   "metadata": {},
   "source": [
    "## Decision Trees"
   ]
  },
  {
   "cell_type": "code",
   "execution_count": null,
   "id": "63aa00ce-39d6-4a71-a98d-179240041e81",
   "metadata": {},
   "outputs": [],
   "source": []
  },
  {
   "cell_type": "code",
   "execution_count": null,
   "id": "0aff5b17-4513-4ce4-ad2e-ed8fb18c9b47",
   "metadata": {},
   "outputs": [],
   "source": []
  },
  {
   "cell_type": "markdown",
   "id": "c56f9ca2-ddfa-43e0-b770-463e86d4181f",
   "metadata": {},
   "source": [
    "## Random Forests"
   ]
  },
  {
   "cell_type": "code",
   "execution_count": null,
   "id": "572cd366-ee4c-431b-b0ee-d5ff33d341eb",
   "metadata": {},
   "outputs": [],
   "source": []
  },
  {
   "cell_type": "code",
   "execution_count": null,
   "id": "20056eed-6243-401d-ba15-4e629d1e389c",
   "metadata": {},
   "outputs": [],
   "source": []
  },
  {
   "cell_type": "markdown",
   "id": "08396347-2ea5-42f9-acbe-0346c577cb29",
   "metadata": {},
   "source": [
    "## Gradient Boosting"
   ]
  },
  {
   "cell_type": "code",
   "execution_count": null,
   "id": "1ededeab-bd5b-4a89-ae8b-c9a53eb80514",
   "metadata": {},
   "outputs": [],
   "source": []
  },
  {
   "cell_type": "code",
   "execution_count": null,
   "id": "56cb7c60-7d6c-490d-914f-ab9bd442ebde",
   "metadata": {},
   "outputs": [],
   "source": []
  },
  {
   "cell_type": "markdown",
   "id": "2a00a9c1-2250-4d24-aa9e-479575d8c41a",
   "metadata": {},
   "source": [
    "## Support Vector Regression"
   ]
  },
  {
   "cell_type": "code",
   "execution_count": null,
   "id": "64ce33e5-9e34-43dc-bd1c-ccc06cf98eed",
   "metadata": {},
   "outputs": [],
   "source": []
  },
  {
   "cell_type": "code",
   "execution_count": null,
   "id": "074352bc-017c-4f2f-823e-37698f794be0",
   "metadata": {},
   "outputs": [],
   "source": []
  },
  {
   "cell_type": "markdown",
   "id": "60f16eee-2d69-491d-a231-8a9dfa43281c",
   "metadata": {},
   "source": [
    "## Evaluation \n",
    "\n",
    "**Note:** Mean Squared Error (MSE), Root Mean Squared Error (RMSE), Mean Absolute Error (MAE), and R-squared."
   ]
  },
  {
   "cell_type": "code",
   "execution_count": null,
   "id": "9fbd20cc-23ed-4360-8c98-6455f26fe913",
   "metadata": {},
   "outputs": [],
   "source": []
  },
  {
   "cell_type": "code",
   "execution_count": null,
   "id": "fe8139e6-c98e-4cd9-9437-bec61f5a9a6d",
   "metadata": {},
   "outputs": [],
   "source": []
  }
 ],
 "metadata": {
  "kernelspec": {
   "display_name": "Python 3 (ipykernel)",
   "language": "python",
   "name": "python3"
  },
  "language_info": {
   "codemirror_mode": {
    "name": "ipython",
    "version": 3
   },
   "file_extension": ".py",
   "mimetype": "text/x-python",
   "name": "python",
   "nbconvert_exporter": "python",
   "pygments_lexer": "ipython3",
   "version": "3.9.13"
  }
 },
 "nbformat": 4,
 "nbformat_minor": 5
}
